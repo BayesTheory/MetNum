{
  "nbformat": 4,
  "nbformat_minor": 0,
  "metadata": {
    "colab": {
      "provenance": []
    },
    "kernelspec": {
      "name": "python3",
      "display_name": "Python 3"
    },
    "language_info": {
      "name": "python"
    }
  },
  "cells": [
    {
      "cell_type": "code",
      "execution_count": 2,
      "metadata": {
        "colab": {
          "base_uri": "https://localhost:8080/"
        },
        "id": "8nM_LPsCOHAQ",
        "outputId": "dc86a01c-a0ba-4d1c-cd6b-e41297c32216"
      },
      "outputs": [
        {
          "output_type": "stream",
          "name": "stdout",
          "text": [
            "For n = 2, solution x: [1. 1.]\n",
            "For n = 3, solution x: [1. 1. 1.]\n",
            "For n = 4, solution x: [1. 1. 1. 1.]\n",
            "For n = 5, solution x: [1. 1. 1. 1. 1.]\n",
            "For n = 6, solution x: [1. 1. 1. 1. 1. 1.]\n",
            "For n = 7, solution x: [1.         1.         1.         1.00000001 0.99999998 1.00000002\n",
            " 0.99999999]\n",
            "For n = 8, solution x: [1.         1.         0.99999998 1.00000009 0.99999975 1.00000036\n",
            " 0.99999975 1.00000007]\n",
            "For n = 9, solution x: [1.         1.00000002 0.99999968 1.00000226 0.99999173 1.00001685\n",
            " 0.99998069 1.00001164 0.99999713]\n",
            "For n = 10, solution x: [1.         1.00000012 0.99999754 1.00002196 0.99989669 1.00028075\n",
            " 0.99954389 1.00043705 0.99977225 1.00004976]\n",
            "For n = 11, solution x: [0.99999999 1.0000007  0.99998226 1.00019562 0.9988477  1.00401296\n",
            " 0.99133333 1.01173207 0.99031475 1.00445673 0.99912388]\n",
            "For n = 12, solution x: [0.99999992 1.00000954 0.99970276 1.00401853 0.97073197 1.1278859\n",
            " 0.64538004 1.63922505 0.25335552 1.54502986 0.77406075 1.04060022]\n",
            "For n = 13, solution x: [ 1.00000001  0.99999701  1.00013706  0.99744983  1.02475012  0.85782126\n",
            "  1.51837845 -0.24467589  2.99389298 -1.10966326  2.41542913  0.45452698\n",
            "  1.09195637]\n",
            "For n = 14, solution x: [ 0.99999992  1.00001106  0.9996501   1.00461143  0.96977472  1.0974319\n",
            "  0.93103365  0.37855914  3.58939373 -4.10684847  6.96531362 -3.20822656\n",
            "  2.66253347  0.71676223]\n",
            "For n = 15, solution x: [  0.99999994   1.00000652   0.99986092   1.00044039   1.01393857\n",
            "   0.81598885   2.08386162  -2.7640945    9.35247366 -11.10486921\n",
            "  12.25183984  -5.21408398   2.5717441    1.09214805   0.90074514]\n"
          ]
        }
      ],
      "source": [
        "import numpy as np\n",
        "\n",
        "def matrixA(n):\n",
        "    A = np.zeros((n, n))\n",
        "    for i in range(n):\n",
        "        for j in range(n):\n",
        "            A[i, j] = 1 / (i + j + 1)\n",
        "    return A\n",
        "\n",
        "def vetorb(A):\n",
        "    return np.sum(A, axis=1)\n",
        "\n",
        "def sistema(A, b):\n",
        "    x = np.linalg.solve(A, b)\n",
        "    return x\n",
        "\n",
        "# Testando para n = 2, 3, ..., 15\n",
        "for n in range(2, 16):\n",
        "    A = matrixA(n)\n",
        "    b = vetorb(A)\n",
        "    x = sistema(A, b)\n",
        "    print(f\"For n = {n}, solution x: {x}\")\n"
      ]
    },
    {
      "cell_type": "code",
      "source": [
        "def compute_condition_number(A):\n",
        "    return np.linalg.cond(A)\n",
        "\n",
        "# Calculando o número de condicionamento para n = 2, 3, ..., 15\n",
        "for n in range(2, 16):\n",
        "    A = matrixA(n)\n",
        "    cond_A = compute_condition_number(A)\n",
        "    print(f\"Para n = {n}, condicionamento Da matrix A: {cond_A:.6f}\")\n"
      ],
      "metadata": {
        "colab": {
          "base_uri": "https://localhost:8080/"
        },
        "id": "k3UqboLtOq83",
        "outputId": "541a35bf-b47d-4bed-a3dc-4cc9bb874eb2"
      },
      "execution_count": 12,
      "outputs": [
        {
          "output_type": "stream",
          "name": "stdout",
          "text": [
            "Para n = 2,condicionamento Da matrix A: 19.281470\n",
            "Para n = 3,condicionamento Da matrix A: 524.056778\n",
            "Para n = 4,condicionamento Da matrix A: 15513.738739\n",
            "Para n = 5,condicionamento Da matrix A: 476607.250243\n",
            "Para n = 6,condicionamento Da matrix A: 14951058.642255\n",
            "Para n = 7,condicionamento Da matrix A: 475367356.744679\n",
            "Para n = 8,condicionamento Da matrix A: 15257575538.060041\n",
            "Para n = 9,condicionamento Da matrix A: 493153755941.023438\n",
            "Para n = 10,condicionamento Da matrix A: 16024416987428.359375\n",
            "Para n = 11,condicionamento Da matrix A: 522270131654983.312500\n",
            "Para n = 12,condicionamento Da matrix A: 17515952300879806.000000\n",
            "Para n = 13,condicionamento Da matrix A: 3188395068920933376.000000\n",
            "Para n = 14,condicionamento Da matrix A: 620078628135598208.000000\n",
            "Para n = 15,condicionamento Da matrix A: 367568286586649024.000000\n"
          ]
        }
      ]
    },
    {
      "cell_type": "code",
      "source": [
        "def estimate_condition_number(A, x):\n",
        "    y = np.dot(A, x)\n",
        "    return np.linalg.norm(y) / np.linalg.norm(x)\n",
        "\n",
        "# Estimando o número de condicionamento para n = 2, 3, ..., 15\n",
        "for n in range(2, 16):\n",
        "    A = matrixA(n)\n",
        "    b = vetorb(A)\n",
        "    x = sistema(A, b)\n",
        "    estimated_cond_A = estimate_condition_number(A, x)\n",
        "    print(f\"Para n = {n}, estimando a cond(A): {estimated_cond_A:.6f}\")\n"
      ],
      "metadata": {
        "colab": {
          "base_uri": "https://localhost:8080/"
        },
        "id": "KCkjZDCdOsSH",
        "outputId": "92c80839-111a-4260-d052-13d18804c6b0"
      },
      "execution_count": 13,
      "outputs": [
        {
          "output_type": "stream",
          "name": "stdout",
          "text": [
            "Para n = 2, estimando a cond(A): 1.213352\n",
            "Para n = 3, estimando a cond(A): 1.310004\n",
            "Para n = 4, estimando a cond(A): 1.366254\n",
            "Para n = 5, estimando a cond(A): 1.403482\n",
            "Para n = 6, estimando a cond(A): 1.430137\n",
            "Para n = 7, estimando a cond(A): 1.450267\n",
            "Para n = 8, estimando a cond(A): 1.466065\n",
            "Para n = 9, estimando a cond(A): 1.478830\n",
            "Para n = 10, estimando a cond(A): 1.489382\n",
            "Para n = 11, estimando a cond(A): 1.498243\n",
            "Para n = 12, estimando a cond(A): 1.421909\n",
            "Para n = 13, estimando a cond(A): 1.078313\n",
            "Para n = 14, estimando a cond(A): 0.558840\n",
            "Para n = 15, estimando a cond(A): 0.289817\n"
          ]
        }
      ]
    },
    {
      "cell_type": "code",
      "source": [
        "print(\"\\nTabela de Resultados:\")\n",
        "print(\" n | cond(A) | Estimativa cond(A) | Erro Relativo\")\n",
        "print(\"-\" * 50)\n",
        "for n in range(2, 16):\n",
        "    A = matrixA(n)\n",
        "    b = vetorb(A)\n",
        "    x = sistema(A, b)\n",
        "    estimated_cond_A = estimate_condition_number(A, x)\n",
        "    relative_error = np.linalg.norm(x - np.ones(n)) / np.linalg.norm(np.ones(n))\n",
        "    print(f\"{n:2d} | {compute_condition_number(A):.6f} | {estimated_cond_A:.6f} | {relative_error:.6f}\")\n"
      ],
      "metadata": {
        "colab": {
          "base_uri": "https://localhost:8080/"
        },
        "id": "AzVVhYkEOvU3",
        "outputId": "677f90bd-c751-4ffa-cb51-ff226b2a6915"
      },
      "execution_count": 9,
      "outputs": [
        {
          "output_type": "stream",
          "name": "stdout",
          "text": [
            "\n",
            "Tabela de Resultados:\n",
            " n | cond(A) | Estimativa cond(A) | Erro Relativo\n",
            "--------------------------------------------------\n",
            " 2 | 19.281470 | 1.213352 | 0.000000\n",
            " 3 | 524.056778 | 1.310004 | 0.000000\n",
            " 4 | 15513.738739 | 1.366254 | 0.000000\n",
            " 5 | 476607.250243 | 1.403482 | 0.000000\n",
            " 6 | 14951058.642255 | 1.430137 | 0.000000\n",
            " 7 | 475367356.744679 | 1.450267 | 0.000000\n",
            " 8 | 15257575538.060041 | 1.466065 | 0.000000\n",
            " 9 | 493153755941.023438 | 1.478830 | 0.000010\n",
            "10 | 16024416987428.359375 | 1.489382 | 0.000233\n",
            "11 | 522270131654983.312500 | 1.498243 | 0.005598\n",
            "12 | 17515952300879806.000000 | 1.421909 | 0.348667\n",
            "13 | 3188395068920933376.000000 | 1.078313 | 0.983498\n",
            "14 | 620078628135598208.000000 | 0.558840 | 2.525931\n",
            "15 | 367568286586649024.000000 | 0.289817 | 5.159951\n"
          ]
        }
      ]
    },
    {
      "cell_type": "code",
      "source": [
        "def grad_conj(A, b, x0, max_iterations=1000, tol=1e-6):\n",
        "    x = x0\n",
        "    r = b - np.dot(A, x)\n",
        "    p = r\n",
        "    for k in range(max_iterations):\n",
        "        Ap = np.dot(A, p)\n",
        "        alpha = np.dot(r, r) / np.dot(p, Ap)\n",
        "        x = x + alpha * p\n",
        "        r_new = r - alpha * Ap\n",
        "        beta = np.dot(r_new, r_new) / np.dot(r, r)\n",
        "        p = r_new + beta * p\n",
        "        r = r_new\n",
        "        if np.linalg.norm(r) < tol:\n",
        "            break\n",
        "    return x\n",
        "\n",
        "n = 11\n",
        "A = matrixA(n)\n",
        "b = vetorb(A)\n",
        "x0 = np.zeros(n)\n",
        "x_cg = grad_conj(A, b, x0)\n",
        "print(f\"Solu~çõa com Gradiente Conjungado (n = {n}): {x_cg}\")\n"
      ],
      "metadata": {
        "colab": {
          "base_uri": "https://localhost:8080/"
        },
        "id": "cniySbJyOx4R",
        "outputId": "420f3dba-48b2-41fb-e9d0-eedd1de18e3d"
      },
      "execution_count": 6,
      "outputs": [
        {
          "output_type": "stream",
          "name": "stdout",
          "text": [
            "Solu~çõa com Gradiente Conjungado (n = 11): [1.00006949 0.99879164 1.00411119 0.99791599 0.99644569 0.99865856\n",
            " 1.00160755 1.00336911 1.0030486  1.00039598 0.9955033 ]\n"
          ]
        }
      ]
    }
  ]
}