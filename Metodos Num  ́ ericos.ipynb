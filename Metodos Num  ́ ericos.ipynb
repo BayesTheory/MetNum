{
  "nbformat": 4,
  "nbformat_minor": 0,
  "metadata": {
    "colab": {
      "provenance": []
    },
    "kernelspec": {
      "name": "python3",
      "display_name": "Python 3"
    },
    "language_info": {
      "name": "python"
    }
  },
  "cells": [
    {
      "cell_type": "markdown",
      "source": [
        "#Q1\n",
        "\n",
        "Resolva o sistema linear Ax = b considerando n = 2, 3, 4, ..., 15 e descreva o que esta acontecendo. Pode usar o numpy."
      ],
      "metadata": {
        "id": "FibHqATW3F1r"
      }
    },
    {
      "cell_type": "code",
      "execution_count": 17,
      "metadata": {
        "colab": {
          "base_uri": "https://localhost:8080/"
        },
        "id": "8nM_LPsCOHAQ",
        "outputId": "c5c8da2d-b054-498e-838b-c3e51359e11a"
      },
      "outputs": [
        {
          "output_type": "stream",
          "name": "stdout",
          "text": [
            "For n = 2, solution x: [1. 1.]\n",
            "For n = 3, solution x: [1. 1. 1.]\n",
            "For n = 4, solution x: [1. 1. 1. 1.]\n",
            "For n = 5, solution x: [1. 1. 1. 1. 1.]\n",
            "For n = 6, solution x: [1. 1. 1. 1. 1. 1.]\n",
            "For n = 7, solution x: [1.         1.         1.         1.00000001 0.99999998 1.00000002\n",
            " 0.99999999]\n",
            "For n = 8, solution x: [1.         1.         0.99999998 1.00000009 0.99999975 1.00000036\n",
            " 0.99999975 1.00000007]\n",
            "For n = 9, solution x: [1.         1.00000002 0.99999968 1.00000226 0.99999173 1.00001685\n",
            " 0.99998069 1.00001164 0.99999713]\n",
            "For n = 10, solution x: [1.         1.00000012 0.99999754 1.00002196 0.99989669 1.00028075\n",
            " 0.99954389 1.00043705 0.99977225 1.00004976]\n",
            "For n = 11, solution x: [0.99999999 1.0000007  0.99998226 1.00019562 0.9988477  1.00401296\n",
            " 0.99133333 1.01173207 0.99031475 1.00445673 0.99912388]\n",
            "For n = 12, solution x: [0.99999992 1.00000954 0.99970276 1.00401853 0.97073197 1.1278859\n",
            " 0.64538004 1.63922505 0.25335552 1.54502986 0.77406075 1.04060022]\n",
            "For n = 13, solution x: [ 1.00000001  0.99999701  1.00013706  0.99744983  1.02475012  0.85782126\n",
            "  1.51837845 -0.24467589  2.99389298 -1.10966326  2.41542913  0.45452698\n",
            "  1.09195637]\n",
            "For n = 14, solution x: [ 0.99999992  1.00001106  0.9996501   1.00461143  0.96977472  1.0974319\n",
            "  0.93103365  0.37855914  3.58939373 -4.10684847  6.96531362 -3.20822656\n",
            "  2.66253347  0.71676223]\n",
            "For n = 15, solution x: [  0.99999994   1.00000652   0.99986092   1.00044039   1.01393857\n",
            "   0.81598885   2.08386162  -2.7640945    9.35247366 -11.10486921\n",
            "  12.25183984  -5.21408398   2.5717441    1.09214805   0.90074514]\n"
          ]
        }
      ],
      "source": [
        "import numpy as np\n",
        "\n",
        "def matrixA(n):\n",
        "    A = np.zeros((n, n))\n",
        "    for i in range(n):\n",
        "        for j in range(n):\n",
        "            A[i, j] = 1 / (i + j + 1)\n",
        "    return A\n",
        "\n",
        "def vetorb(A):\n",
        "    return np.sum(A, axis=1)\n",
        "\n",
        "def sistema(A, b):\n",
        "    x = np.linalg.solve(A, b)\n",
        "    return x\n",
        "\n",
        "# Testando para n = 2, 3, ..., 15\n",
        "for n in range(2, 16):\n",
        "    A = matrixA(n)\n",
        "    b = vetorb(A)\n",
        "    x = sistema(A, b)\n",
        "    print(f\"For n = {n}, solution x: {x}\")\n"
      ]
    },
    {
      "cell_type": "markdown",
      "source": [
        "#Q2\n",
        "Utilize o numpy para calcular o numero de condicionamento da matriz  ́ A para\n",
        "os diversos valores de n do item anterior."
      ],
      "metadata": {
        "id": "SWj8aPei3JWx"
      }
    },
    {
      "cell_type": "code",
      "source": [
        "def compute_condition_number(A):\n",
        "    return np.linalg.cond(A)\n",
        "\n",
        "for n in range(2, 16):\n",
        "    A = matrixA(n)\n",
        "    cond_A = compute_condition_number(A)\n",
        "    print(f\"Para n = {n}, condicionamento Da matrix A: {cond_A}\")\n"
      ],
      "metadata": {
        "colab": {
          "base_uri": "https://localhost:8080/"
        },
        "id": "k3UqboLtOq83",
        "outputId": "fa74d705-1792-44ce-dd42-9efe47ce7cba"
      },
      "execution_count": 11,
      "outputs": [
        {
          "output_type": "stream",
          "name": "stdout",
          "text": [
            "Para n = 2, condicionamento Da matrix A: 19.28147006790397\n",
            "Para n = 3, condicionamento Da matrix A: 524.0567775860644\n",
            "Para n = 4, condicionamento Da matrix A: 15513.73873892924\n",
            "Para n = 5, condicionamento Da matrix A: 476607.2502425855\n",
            "Para n = 6, condicionamento Da matrix A: 14951058.642254734\n",
            "Para n = 7, condicionamento Da matrix A: 475367356.7446793\n",
            "Para n = 8, condicionamento Da matrix A: 15257575538.060041\n",
            "Para n = 9, condicionamento Da matrix A: 493153755941.02344\n",
            "Para n = 10, condicionamento Da matrix A: 16024416987428.36\n",
            "Para n = 11, condicionamento Da matrix A: 522270131654983.3\n",
            "Para n = 12, condicionamento Da matrix A: 1.7515952300879806e+16\n",
            "Para n = 13, condicionamento Da matrix A: 3.1883950689209334e+18\n",
            "Para n = 14, condicionamento Da matrix A: 6.200786281355982e+17\n",
            "Para n = 15, condicionamento Da matrix A: 3.67568286586649e+17\n"
          ]
        }
      ]
    },
    {
      "cell_type": "markdown",
      "source": [
        "#Q3\n",
        "Utilize o numpy para estimar o valor de cond(A), ou seja, considerando que os calculos para resolver o sistema linear utilizam um sistema aritmetico de N  dıgitos significativos,onde  ̃y e a solucao aproximada do sistema linear  ̃ Ay r, sendo o resıduo da solucao aproximada  ̃x, calculado com alguma norma qualquer."
      ],
      "metadata": {
        "id": "2yb7sXgZ3K6y"
      }
    },
    {
      "cell_type": "code",
      "source": [
        "def estimate_condition_number(A, x):\n",
        "    y = np.dot(A, x)\n",
        "    return np.linalg.norm(y) / np.linalg.norm(x)\n",
        "\n",
        "for n in range(2, 16):\n",
        "    A = matrixA(n)\n",
        "    b = vetorb(A)\n",
        "    x = sistema(A, b)\n",
        "    estimated_cond_A = estimate_condition_number(A, x)\n",
        "    print(f\"Para n = {n}, estimando a cond(A): {estimated_cond_A}\")\n"
      ],
      "metadata": {
        "colab": {
          "base_uri": "https://localhost:8080/"
        },
        "id": "KCkjZDCdOsSH",
        "outputId": "36ad4464-3457-43b3-b970-c0d15fb98853"
      },
      "execution_count": 13,
      "outputs": [
        {
          "output_type": "stream",
          "name": "stdout",
          "text": [
            "Para n = 2, estimando a cond(A): 1.2133516482134197\n",
            "Para n = 3, estimando a cond(A): 1.3100042408752397\n",
            "Para n = 4, estimando a cond(A): 1.3662538782612574\n",
            "Para n = 5, estimando a cond(A): 1.4034815032831567\n",
            "Para n = 6, estimando a cond(A): 1.4301371899858017\n",
            "Para n = 7, estimando a cond(A): 1.4502671021236104\n",
            "Para n = 8, estimando a cond(A): 1.4660651658826385\n",
            "Para n = 9, estimando a cond(A): 1.4788299401614067\n",
            "Para n = 10, estimando a cond(A): 1.4893818531919674\n",
            "Para n = 11, estimando a cond(A): 1.498242874083287\n",
            "Para n = 12, estimando a cond(A): 1.421909190508391\n",
            "Para n = 13, estimando a cond(A): 1.0783130380414234\n",
            "Para n = 14, estimando a cond(A): 0.5588400832956012\n",
            "Para n = 15, estimando a cond(A): 0.2898174052558013\n"
          ]
        }
      ]
    },
    {
      "cell_type": "markdown",
      "source": [
        "#Q4\n",
        "Monte uma tabela com as colunas valor de n, cond(A), estimativa de cond(A)\n",
        "e erro relativo da soluc ̧ao num  ̃ erica, para  ́ n = 2, 3, 4, ..., 15."
      ],
      "metadata": {
        "id": "pZS7CjHZ3OrC"
      }
    },
    {
      "cell_type": "code",
      "source": [
        "print(\"\\nTabela de Resultados:\")\n",
        "print(\" n | cond(A) | Estimativa cond(A) | Erro Relativo\")\n",
        "print(\"-\" * 50)\n",
        "\n",
        "for n in range(2, 16):\n",
        "    A = matrixA(n)\n",
        "    b = vetorb(A)\n",
        "    x = sistema(A, b)\n",
        "    estimated_cond_A = estimate_condition_number(A, x)\n",
        "    # Supondo que 'np.ones(n)' cria um vetor com todos os elementos iguais a 1.\n",
        "    relative_error = np.linalg.norm(x - np.ones(n)) / np.linalg.norm(np.ones(n))\n",
        "    # Supondo que 'compute_condition_number(A)' retorna o número de condição de 'A'.\n",
        "    print(f\"{n:2d} | {compute_condition_number(A)} | {estimated_cond_A:} | {relative_error:}\")\n"
      ],
      "metadata": {
        "colab": {
          "base_uri": "https://localhost:8080/"
        },
        "id": "AzVVhYkEOvU3",
        "outputId": "590b757e-8f19-4470-f562-83f413425883"
      },
      "execution_count": 16,
      "outputs": [
        {
          "output_type": "stream",
          "name": "stdout",
          "text": [
            "\n",
            "Tabela de Resultados:\n",
            " n | cond(A) | Estimativa cond(A) | Erro Relativo\n",
            "--------------------------------------------------\n",
            " 2 | 19.28147006790397 | 1.2133516482134197 | 5.661048867003676e-16\n",
            " 3 | 524.0567775860644 | 1.3100042408752397 | 8.022593772267726e-15\n",
            " 4 | 15513.73873892924 | 1.3662538782612574 | 4.4515459601812086e-13\n",
            " 5 | 476607.2502425855 | 1.4034815032831567 | 1.6828426299227195e-12\n",
            " 6 | 14951058.642254734 | 1.4301371899858017 | 2.618913302311624e-10\n",
            " 7 | 475367356.7446793 | 1.4502671021236104 | 1.2606867224171548e-08\n",
            " 8 | 15257575538.060041 | 1.4660651658826385 | 1.838642341710091e-07\n",
            " 9 | 493153755941.02344 | 1.4788299401614067 | 9.856184167582365e-06\n",
            "10 | 16024416987428.36 | 1.4893818531919674 | 0.00023310366588429792\n",
            "11 | 522270131654983.3 | 1.498242874083287 | 0.005597539673936445\n",
            "12 | 1.7515952300879806e+16 | 1.421909190508391 | 0.34866699576489485\n",
            "13 | 3.1883950689209334e+18 | 1.0783130380414234 | 0.9834981870899783\n",
            "14 | 6.200786281355982e+17 | 0.5588400832956012 | 2.5259314090323\n",
            "15 | 3.67568286586649e+17 | 0.2898174052558013 | 5.159950610130496\n"
          ]
        }
      ]
    },
    {
      "cell_type": "markdown",
      "source": [
        "#Q5\n",
        "\n",
        "Implemente o Metodo dos Gradientes Conjugados e, com ele, resolva o sistema linear considerando n = 11."
      ],
      "metadata": {
        "id": "mjXTBmk43QUT"
      }
    },
    {
      "cell_type": "code",
      "source": [
        "def grad_conj(A, b, x0, max_iterations=1000, tol=1e-6):\n",
        "    x = x0\n",
        "    r = b - np.dot(A, x)\n",
        "    p = r\n",
        "    for k in range(max_iterations):\n",
        "        Ap = np.dot(A, p)\n",
        "        alpha = np.dot(r, r) / np.dot(p, Ap)\n",
        "        x = x + alpha * p\n",
        "        r_new = r - alpha * Ap\n",
        "        beta = np.dot(r_new, r_new) / np.dot(r, r)\n",
        "        p = r_new + beta * p\n",
        "        r = r_new\n",
        "        if np.linalg.norm(r) < tol:\n",
        "            break\n",
        "    return x\n",
        "\n",
        "n = 11\n",
        "A = matrixA(n)\n",
        "b = vetorb(A)\n",
        "x0 = np.zeros(n)\n",
        "x_cg = grad_conj(A, b, x0)\n",
        "print(f\"Solu~çõa com Gradiente Conjungado (n = {n}): {x_cg}\")\n"
      ],
      "metadata": {
        "colab": {
          "base_uri": "https://localhost:8080/"
        },
        "id": "cniySbJyOx4R",
        "outputId": "a4989458-b49e-456b-d0be-06ce398a889b"
      },
      "execution_count": null,
      "outputs": [
        {
          "output_type": "stream",
          "name": "stdout",
          "text": [
            "Solu~çõa com Gradiente Conjungado (n = 11): [1.00006949 0.99879164 1.00411119 0.99791599 0.99644569 0.99865856\n",
            " 1.00160755 1.00336911 1.0030486  1.00039598 0.9955033 ]\n"
          ]
        }
      ]
    },
    {
      "cell_type": "markdown",
      "source": [
        "#Q6\n",
        "Aplique o refinamento iterativo na soluc ̧ao aproximada encontrada no item 5. A solucao aproximada melhorou?"
      ],
      "metadata": {
        "id": "cYJorVra3RwC"
      }
    },
    {
      "cell_type": "code",
      "source": [
        "import numpy as np\n",
        "\n",
        "def iterative_refinement(A, b, x_approx, max_iterations=10, tol=1e-6):\n",
        "    x = x_approx.copy()\n",
        "    for k in range(max_iterations):\n",
        "        r = b - np.dot(A, x)\n",
        "        d = np.linalg.solve(A, r)\n",
        "        x += d\n",
        "        if np.linalg.norm(r) < tol:\n",
        "            break\n",
        "    return x\n",
        "\n",
        "\n",
        "n = 11\n",
        "A = matrixA(n)\n",
        "b = vetorb(A)\n",
        "x_cg = grad_conj(A, b, np.zeros(n))\n",
        "x_refined = iterative_refinement(A, b, x_cg)\n",
        "\n",
        "print(f\"Original (GC): {x_cg}\")\n",
        "print(f\"Solução Refinada: {x_refined}\")\n"
      ],
      "metadata": {
        "colab": {
          "base_uri": "https://localhost:8080/"
        },
        "id": "NAkEFPGBfVe5",
        "outputId": "dd372f6f-4445-4cd6-e181-e769401dc2f6"
      },
      "execution_count": null,
      "outputs": [
        {
          "output_type": "stream",
          "name": "stdout",
          "text": [
            "Original (GC): [1.00006949 0.99879164 1.00411119 0.99791599 0.99644569 0.99865856\n",
            " 1.00160755 1.00336911 1.0030486  1.00039598 0.9955033 ]\n",
            "Solução Refinada: [0.99999999 1.00000057 0.99998571 1.00015467 0.99910317 1.00308116\n",
            " 0.99342381 1.00881041 0.9927931  1.0032893  0.99935811]\n"
          ]
        }
      ]
    }
  ]
}
